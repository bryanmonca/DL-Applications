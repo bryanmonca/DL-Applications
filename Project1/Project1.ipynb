{
 "cells": [
  {
   "cell_type": "code",
   "execution_count": 83,
   "metadata": {
    "scrolled": true
   },
   "outputs": [
    {
     "data": {
      "text/html": [
       "<div>\n",
       "<style scoped>\n",
       "    .dataframe tbody tr th:only-of-type {\n",
       "        vertical-align: middle;\n",
       "    }\n",
       "\n",
       "    .dataframe tbody tr th {\n",
       "        vertical-align: top;\n",
       "    }\n",
       "\n",
       "    .dataframe thead th {\n",
       "        text-align: right;\n",
       "    }\n",
       "</style>\n",
       "<table border=\"1\" class=\"dataframe\">\n",
       "  <thead>\n",
       "    <tr style=\"text-align: right;\">\n",
       "      <th></th>\n",
       "      <th>SquareFootageStructure</th>\n",
       "      <th>LotSquareFootage</th>\n",
       "      <th>YearBuilt</th>\n",
       "      <th>Bedrooms</th>\n",
       "      <th>BathsTotal</th>\n",
       "      <th>field_StoriesTotal</th>\n",
       "      <th>field_PostalCode</th>\n",
       "      <th>ListPrice</th>\n",
       "    </tr>\n",
       "  </thead>\n",
       "  <tbody>\n",
       "    <tr>\n",
       "      <th>0</th>\n",
       "      <td>1549.0</td>\n",
       "      <td>5825.0</td>\n",
       "      <td>1974.0</td>\n",
       "      <td>3.0</td>\n",
       "      <td>2.0</td>\n",
       "      <td>1.0</td>\n",
       "      <td>92624.0</td>\n",
       "      <td>3300.0</td>\n",
       "    </tr>\n",
       "    <tr>\n",
       "      <th>1</th>\n",
       "      <td>1196.0</td>\n",
       "      <td>7900.0</td>\n",
       "      <td>1981.0</td>\n",
       "      <td>3.0</td>\n",
       "      <td>2.0</td>\n",
       "      <td>1.0</td>\n",
       "      <td>92316.0</td>\n",
       "      <td>1600.0</td>\n",
       "    </tr>\n",
       "    <tr>\n",
       "      <th>2</th>\n",
       "      <td>2502.0</td>\n",
       "      <td>11326.0</td>\n",
       "      <td>1998.0</td>\n",
       "      <td>4.0</td>\n",
       "      <td>3.0</td>\n",
       "      <td>NaN</td>\n",
       "      <td>92211.0</td>\n",
       "      <td>649900.0</td>\n",
       "    </tr>\n",
       "    <tr>\n",
       "      <th>3</th>\n",
       "      <td>3884.0</td>\n",
       "      <td>16013.0</td>\n",
       "      <td>1978.0</td>\n",
       "      <td>3.0</td>\n",
       "      <td>3.0</td>\n",
       "      <td>1.0</td>\n",
       "      <td>90274.0</td>\n",
       "      <td>2599000.0</td>\n",
       "    </tr>\n",
       "    <tr>\n",
       "      <th>4</th>\n",
       "      <td>888.0</td>\n",
       "      <td>1806.0</td>\n",
       "      <td>1946.0</td>\n",
       "      <td>2.0</td>\n",
       "      <td>2.0</td>\n",
       "      <td>NaN</td>\n",
       "      <td>92651.0</td>\n",
       "      <td>3500.0</td>\n",
       "    </tr>\n",
       "  </tbody>\n",
       "</table>\n",
       "</div>"
      ],
      "text/plain": [
       "   SquareFootageStructure  LotSquareFootage  YearBuilt  Bedrooms  BathsTotal  \\\n",
       "0                  1549.0            5825.0     1974.0       3.0         2.0   \n",
       "1                  1196.0            7900.0     1981.0       3.0         2.0   \n",
       "2                  2502.0           11326.0     1998.0       4.0         3.0   \n",
       "3                  3884.0           16013.0     1978.0       3.0         3.0   \n",
       "4                   888.0            1806.0     1946.0       2.0         2.0   \n",
       "\n",
       "   field_StoriesTotal  field_PostalCode  ListPrice  \n",
       "0                 1.0           92624.0     3300.0  \n",
       "1                 1.0           92316.0     1600.0  \n",
       "2                 NaN           92211.0   649900.0  \n",
       "3                 1.0           90274.0  2599000.0  \n",
       "4                 NaN           92651.0     3500.0  "
      ]
     },
     "execution_count": 83,
     "metadata": {},
     "output_type": "execute_result"
    }
   ],
   "source": [
    "import numpy as np\n",
    "import pandas as pd\n",
    "import matplotlib.pyplot as plt\n",
    "from sklearn import preprocessing\n",
    "import tensorflow as tf\n",
    "from tensorflow.keras import layers\n",
    "from scipy import stats\n",
    "\n",
    "#load data\n",
    "house_data = pd.read_excel('resd_data.xlsx')\n",
    "house_data.head(5)"
   ]
  },
  {
   "cell_type": "code",
   "execution_count": 84,
   "metadata": {
    "scrolled": true
   },
   "outputs": [
    {
     "name": "stdout",
     "output_type": "stream",
     "text": [
      "      SquareFootageStructure  LotSquareFootage  YearBuilt  Bedrooms  \\\n",
      "0                     1549.0            5825.0     1974.0       3.0   \n",
      "1                     1196.0            7900.0     1981.0       3.0   \n",
      "3                     3884.0           16013.0     1978.0       3.0   \n",
      "6                     1164.0            6611.0     1961.0       3.0   \n",
      "12                    2766.0            7331.0     1986.0       4.0   \n",
      "...                      ...               ...        ...       ...   \n",
      "9989                  2300.0            6547.0     1924.0       4.0   \n",
      "9990                  1545.0            2178.0     1967.0       2.0   \n",
      "9991                  1404.0            7841.0     1964.0       2.0   \n",
      "9993                   900.0            6000.0     1924.0       2.0   \n",
      "9999                  2865.0            7841.0     2005.0       4.0   \n",
      "\n",
      "      BathsTotal  field_StoriesTotal  ListPrice  \n",
      "0            2.0                 1.0     3300.0  \n",
      "1            2.0                 1.0     1600.0  \n",
      "3            3.0                 1.0  2599000.0  \n",
      "6            2.0                 1.0   499999.0  \n",
      "12           3.0                 2.0   929800.0  \n",
      "...          ...                 ...        ...  \n",
      "9989         2.0                 1.0  2445000.0  \n",
      "9990         2.0                 1.0   320000.0  \n",
      "9991         2.0                 1.0   228500.0  \n",
      "9993         1.0                 1.0     2700.0  \n",
      "9999         3.0                 2.0   399990.0  \n",
      "\n",
      "[6022 rows x 7 columns]\n",
      "dont\n"
     ]
    }
   ],
   "source": [
    "house_data = house_data.dropna(how='any')\n",
    "house_data = house_data.iloc[:, [0, 1, 2, 3, 4, 5, 7]]\n",
    "house_data = house_data[(house_data['YearBuilt'] != 0.0) &\n",
    "                        (house_data['SquareFootageStructure'] != 0.0) &\n",
    "                        (house_data['LotSquareFootage'] != 0.0) &\n",
    "                        (house_data['Bedrooms'] != 0.0) &\n",
    "                        (house_data['BathsTotal'] != 0.0) &\n",
    "                        (house_data['YearBuilt'] != 0.0)]\n",
    "print(house_data)\n",
    "house_data = house_data[(np.abs(stats.zscore(house_data)) < 3).all(axis=1)]\n",
    "print('dont')"
   ]
  },
  {
   "cell_type": "code",
   "execution_count": 85,
   "metadata": {},
   "outputs": [
    {
     "data": {
      "text/plain": [
       "(5787, 7)"
      ]
     },
     "execution_count": 85,
     "metadata": {},
     "output_type": "execute_result"
    }
   ],
   "source": [
    "house_data.shape"
   ]
  },
  {
   "cell_type": "code",
   "execution_count": 86,
   "metadata": {
    "scrolled": true
   },
   "outputs": [
    {
     "data": {
      "text/plain": [
       "0          3300.0\n",
       "1          1600.0\n",
       "3       2599000.0\n",
       "6        499999.0\n",
       "12       929800.0\n",
       "          ...    \n",
       "9989    2445000.0\n",
       "9990     320000.0\n",
       "9991     228500.0\n",
       "9993       2700.0\n",
       "9999     399990.0\n",
       "Name: ListPrice, Length: 5787, dtype: float64"
      ]
     },
     "execution_count": 86,
     "metadata": {},
     "output_type": "execute_result"
    }
   ],
   "source": [
    "house_data.iloc[:, 6]"
   ]
  },
  {
   "cell_type": "code",
   "execution_count": 87,
   "metadata": {},
   "outputs": [
    {
     "data": {
      "text/plain": [
       "(array([3272., 1587.,  420.,  200.,  120.,   88.,   39.,   28.,   13.,\n",
       "          20.]),\n",
       " array([7.1500000e+02, 5.5054350e+05, 1.1003720e+06, 1.6502005e+06,\n",
       "        2.2000290e+06, 2.7498575e+06, 3.2996860e+06, 3.8495145e+06,\n",
       "        4.3993430e+06, 4.9491715e+06, 5.4990000e+06]),\n",
       " <a list of 10 Patch objects>)"
      ]
     },
     "execution_count": 87,
     "metadata": {},
     "output_type": "execute_result"
    },
    {
     "data": {
      "image/png": "[encoded data removed]",
      "text/plain": [
       "<Figure size 432x288 with 1 Axes>"
      ]
     },
     "metadata": {
      "needs_background": "light"
     },
     "output_type": "display_data"
    }
   ],
   "source": [
    "fig = plt.figure()\n",
    "ax = fig.add_subplot(1,1,1)\n",
    "#ax.scatter(range(1, 5788), house_data.iloc[:, 6])\n",
    "ax.hist(house_data.iloc[:, 6])"
   ]
  },
  {
   "cell_type": "code",
   "execution_count": 88,
   "metadata": {},
   "outputs": [
    {
     "data": {
      "text/plain": [
       "(-4783.286, 1100372.0]    4859\n",
       "(1100372.0, 2200029.0]     620\n",
       "(2200029.0, 3299686.0]     208\n",
       "(3299686.0, 4399343.0]      67\n",
       "(4399343.0, 5499000.0]      33\n",
       "Name: ListPrice, dtype: int64"
      ]
     },
     "execution_count": 88,
     "metadata": {},
     "output_type": "execute_result"
    }
   ],
   "source": [
    "house_data['ListPrice'].value_counts(bins=5)"
   ]
  },
  {
   "cell_type": "code",
   "execution_count": 89,
   "metadata": {
    "scrolled": true
   },
   "outputs": [
    {
     "data": {
      "text/plain": [
       "(936, 7)"
      ]
     },
     "execution_count": 89,
     "metadata": {},
     "output_type": "execute_result"
    }
   ],
   "source": [
    "house_data[house_data.iloc[:, 6] <= 30000.0].shape #drop houses below 30000"
   ]
  },
  {
   "cell_type": "code",
   "execution_count": 90,
   "metadata": {},
   "outputs": [
    {
     "data": {
      "text/plain": [
       "(5787, 7)"
      ]
     },
     "execution_count": 90,
     "metadata": {},
     "output_type": "execute_result"
    }
   ],
   "source": [
    "house_data.shape"
   ]
  },
  {
   "cell_type": "code",
   "execution_count": 91,
   "metadata": {},
   "outputs": [],
   "source": [
    "house_data = house_data[house_data.iloc[:, 6] > 30000.0] #drop houses below 30000"
   ]
  },
  {
   "cell_type": "code",
   "execution_count": 92,
   "metadata": {},
   "outputs": [
    {
     "data": {
      "text/plain": [
       "(4851, 7)"
      ]
     },
     "execution_count": 92,
     "metadata": {},
     "output_type": "execute_result"
    }
   ],
   "source": [
    "house_data.shape"
   ]
  },
  {
   "cell_type": "code",
   "execution_count": 93,
   "metadata": {},
   "outputs": [
    {
     "data": {
      "text/plain": [
       "(array([2474., 1450.,  421.,  198.,  124.,   85.,   38.,   29.,   13.,\n",
       "          19.]),\n",
       " array([  30900.,  577710., 1124520., 1671330., 2218140., 2764950.,\n",
       "        3311760., 3858570., 4405380., 4952190., 5499000.]),\n",
       " <a list of 10 Patch objects>)"
      ]
     },
     "execution_count": 93,
     "metadata": {},
     "output_type": "execute_result"
    },
    {
     "data": {
      "image/png": "[encoded data removed]",
      "text/plain": [
       "<Figure size 432x288 with 1 Axes>"
      ]
     },
     "metadata": {
      "needs_background": "light"
     },
     "output_type": "display_data"
    }
   ],
   "source": [
    "fig = plt.figure()\n",
    "ax = fig.add_subplot(1,1,1)\n",
    "#ax.scatter(range(1, 5788), house_data.iloc[:, 6])\n",
    "ax.hist(house_data.iloc[:, 6])\n"
   ]
  },
  {
   "cell_type": "code",
   "execution_count": 94,
   "metadata": {
    "scrolled": true
   },
   "outputs": [
    {
     "data": {
      "text/plain": [
       "(25431.899, 1124520.0]    3924\n",
       "(1124520.0, 2218140.0]     619\n",
       "(2218140.0, 3311760.0]     209\n",
       "(3311760.0, 4405380.0]      67\n",
       "(4405380.0, 5499000.0]      32\n",
       "Name: ListPrice, dtype: int64"
      ]
     },
     "execution_count": 94,
     "metadata": {},
     "output_type": "execute_result"
    }
   ],
   "source": [
    "house_data['ListPrice'].value_counts(bins=5)"
   ]
  },
  {
   "cell_type": "code",
   "execution_count": 95,
   "metadata": {
    "scrolled": true
   },
   "outputs": [
    {
     "data": {
      "text/html": [
       "<div>\n",
       "<style scoped>\n",
       "    .dataframe tbody tr th:only-of-type {\n",
       "        vertical-align: middle;\n",
       "    }\n",
       "\n",
       "    .dataframe tbody tr th {\n",
       "        vertical-align: top;\n",
       "    }\n",
       "\n",
       "    .dataframe thead th {\n",
       "        text-align: right;\n",
       "    }\n",
       "</style>\n",
       "<table border=\"1\" class=\"dataframe\">\n",
       "  <thead>\n",
       "    <tr style=\"text-align: right;\">\n",
       "      <th></th>\n",
       "      <th>SquareFootageStructure</th>\n",
       "      <th>LotSquareFootage</th>\n",
       "      <th>YearBuilt</th>\n",
       "      <th>Bedrooms</th>\n",
       "      <th>BathsTotal</th>\n",
       "      <th>field_StoriesTotal</th>\n",
       "      <th>ListPrice</th>\n",
       "    </tr>\n",
       "  </thead>\n",
       "  <tbody>\n",
       "  </tbody>\n",
       "</table>\n",
       "</div>"
      ],
      "text/plain": [
       "Empty DataFrame\n",
       "Columns: [SquareFootageStructure, LotSquareFootage, YearBuilt, Bedrooms, BathsTotal, field_StoriesTotal, ListPrice]\n",
       "Index: []"
      ]
     },
     "execution_count": 95,
     "metadata": {},
     "output_type": "execute_result"
    }
   ],
   "source": [
    "house_data[house_data.iloc[:, 6] <= 0.0]"
   ]
  },
  {
   "cell_type": "code",
   "execution_count": 96,
   "metadata": {
    "scrolled": true
   },
   "outputs": [
    {
     "data": {
      "text/plain": [
       "3       2599000.0\n",
       "6        499999.0\n",
       "12       929800.0\n",
       "14       689900.0\n",
       "16       245000.0\n",
       "          ...    \n",
       "9986     220000.0\n",
       "9989    2445000.0\n",
       "9990     320000.0\n",
       "9991     228500.0\n",
       "9999     399990.0\n",
       "Name: ListPrice, Length: 4851, dtype: float64"
      ]
     },
     "execution_count": 96,
     "metadata": {},
     "output_type": "execute_result"
    }
   ],
   "source": [
    "house_data.iloc[:,6]"
   ]
  },
  {
   "cell_type": "code",
   "execution_count": 97,
   "metadata": {},
   "outputs": [
    {
     "data": {
      "text/html": [
       "<div>\n",
       "<style scoped>\n",
       "    .dataframe tbody tr th:only-of-type {\n",
       "        vertical-align: middle;\n",
       "    }\n",
       "\n",
       "    .dataframe tbody tr th {\n",
       "        vertical-align: top;\n",
       "    }\n",
       "\n",
       "    .dataframe thead th {\n",
       "        text-align: right;\n",
       "    }\n",
       "</style>\n",
       "<table border=\"1\" class=\"dataframe\">\n",
       "  <thead>\n",
       "    <tr style=\"text-align: right;\">\n",
       "      <th></th>\n",
       "      <th>SquareFootageStructure</th>\n",
       "      <th>LotSquareFootage</th>\n",
       "      <th>YearBuilt</th>\n",
       "      <th>Bedrooms</th>\n",
       "      <th>BathsTotal</th>\n",
       "      <th>field_StoriesTotal</th>\n",
       "    </tr>\n",
       "  </thead>\n",
       "  <tbody>\n",
       "    <tr>\n",
       "      <th>3</th>\n",
       "      <td>3884.0</td>\n",
       "      <td>16013.0</td>\n",
       "      <td>1978.0</td>\n",
       "      <td>3.0</td>\n",
       "      <td>3.0</td>\n",
       "      <td>1.0</td>\n",
       "    </tr>\n",
       "  </tbody>\n",
       "</table>\n",
       "</div>"
      ],
      "text/plain": [
       "   SquareFootageStructure  LotSquareFootage  YearBuilt  Bedrooms  BathsTotal  \\\n",
       "3                  3884.0           16013.0     1978.0       3.0         3.0   \n",
       "\n",
       "   field_StoriesTotal  \n",
       "3                 1.0  "
      ]
     },
     "execution_count": 97,
     "metadata": {},
     "output_type": "execute_result"
    }
   ],
   "source": [
    "house_data.iloc[:,0:6].head(1)"
   ]
  },
  {
   "cell_type": "code",
   "execution_count": 98,
   "metadata": {},
   "outputs": [
    {
     "data": {
      "text/html": [
       "<div>\n",
       "<style scoped>\n",
       "    .dataframe tbody tr th:only-of-type {\n",
       "        vertical-align: middle;\n",
       "    }\n",
       "\n",
       "    .dataframe tbody tr th {\n",
       "        vertical-align: top;\n",
       "    }\n",
       "\n",
       "    .dataframe thead th {\n",
       "        text-align: right;\n",
       "    }\n",
       "</style>\n",
       "<table border=\"1\" class=\"dataframe\">\n",
       "  <thead>\n",
       "    <tr style=\"text-align: right;\">\n",
       "      <th></th>\n",
       "      <th>SquareFootageStructure</th>\n",
       "      <th>LotSquareFootage</th>\n",
       "      <th>YearBuilt</th>\n",
       "      <th>Bedrooms</th>\n",
       "      <th>BathsTotal</th>\n",
       "      <th>field_StoriesTotal</th>\n",
       "      <th>ListPrice</th>\n",
       "    </tr>\n",
       "  </thead>\n",
       "  <tbody>\n",
       "    <tr>\n",
       "      <th>count</th>\n",
       "      <td>4851.000000</td>\n",
       "      <td>4.851000e+03</td>\n",
       "      <td>4851.000000</td>\n",
       "      <td>4851.000000</td>\n",
       "      <td>4851.000000</td>\n",
       "      <td>4851.000000</td>\n",
       "      <td>4.851000e+03</td>\n",
       "    </tr>\n",
       "    <tr>\n",
       "      <th>mean</th>\n",
       "      <td>2076.723974</td>\n",
       "      <td>3.311999e+04</td>\n",
       "      <td>1975.950732</td>\n",
       "      <td>3.381571</td>\n",
       "      <td>2.659246</td>\n",
       "      <td>1.439085</td>\n",
       "      <td>8.201749e+05</td>\n",
       "    </tr>\n",
       "    <tr>\n",
       "      <th>std</th>\n",
       "      <td>1014.242598</td>\n",
       "      <td>2.353301e+05</td>\n",
       "      <td>25.291518</td>\n",
       "      <td>0.988252</td>\n",
       "      <td>1.059832</td>\n",
       "      <td>0.664063</td>\n",
       "      <td>7.679496e+05</td>\n",
       "    </tr>\n",
       "    <tr>\n",
       "      <th>min</th>\n",
       "      <td>390.000000</td>\n",
       "      <td>1.000000e+00</td>\n",
       "      <td>1900.000000</td>\n",
       "      <td>1.000000</td>\n",
       "      <td>1.000000</td>\n",
       "      <td>0.000000</td>\n",
       "      <td>3.090000e+04</td>\n",
       "    </tr>\n",
       "    <tr>\n",
       "      <th>25%</th>\n",
       "      <td>1344.000000</td>\n",
       "      <td>5.586000e+03</td>\n",
       "      <td>1957.000000</td>\n",
       "      <td>3.000000</td>\n",
       "      <td>2.000000</td>\n",
       "      <td>1.000000</td>\n",
       "      <td>3.799000e+05</td>\n",
       "    </tr>\n",
       "    <tr>\n",
       "      <th>50%</th>\n",
       "      <td>1812.000000</td>\n",
       "      <td>7.405000e+03</td>\n",
       "      <td>1978.000000</td>\n",
       "      <td>3.000000</td>\n",
       "      <td>3.000000</td>\n",
       "      <td>1.000000</td>\n",
       "      <td>5.699000e+05</td>\n",
       "    </tr>\n",
       "    <tr>\n",
       "      <th>75%</th>\n",
       "      <td>2580.500000</td>\n",
       "      <td>1.107450e+04</td>\n",
       "      <td>1998.000000</td>\n",
       "      <td>4.000000</td>\n",
       "      <td>3.000000</td>\n",
       "      <td>2.000000</td>\n",
       "      <td>8.990000e+05</td>\n",
       "    </tr>\n",
       "    <tr>\n",
       "      <th>max</th>\n",
       "      <td>7640.000000</td>\n",
       "      <td>6.969600e+06</td>\n",
       "      <td>2018.000000</td>\n",
       "      <td>6.000000</td>\n",
       "      <td>6.000000</td>\n",
       "      <td>7.000000</td>\n",
       "      <td>5.499000e+06</td>\n",
       "    </tr>\n",
       "  </tbody>\n",
       "</table>\n",
       "</div>"
      ],
      "text/plain": [
       "       SquareFootageStructure  LotSquareFootage    YearBuilt     Bedrooms  \\\n",
       "count             4851.000000      4.851000e+03  4851.000000  4851.000000   \n",
       "mean              2076.723974      3.311999e+04  1975.950732     3.381571   \n",
       "std               1014.242598      2.353301e+05    25.291518     0.988252   \n",
       "min                390.000000      1.000000e+00  1900.000000     1.000000   \n",
       "25%               1344.000000      5.586000e+03  1957.000000     3.000000   \n",
       "50%               1812.000000      7.405000e+03  1978.000000     3.000000   \n",
       "75%               2580.500000      1.107450e+04  1998.000000     4.000000   \n",
       "max               7640.000000      6.969600e+06  2018.000000     6.000000   \n",
       "\n",
       "        BathsTotal  field_StoriesTotal     ListPrice  \n",
       "count  4851.000000         4851.000000  4.851000e+03  \n",
       "mean      2.659246            1.439085  8.201749e+05  \n",
       "std       1.059832            0.664063  7.679496e+05  \n",
       "min       1.000000            0.000000  3.090000e+04  \n",
       "25%       2.000000            1.000000  3.799000e+05  \n",
       "50%       3.000000            1.000000  5.699000e+05  \n",
       "75%       3.000000            2.000000  8.990000e+05  \n",
       "max       6.000000            7.000000  5.499000e+06  "
      ]
     },
     "execution_count": 98,
     "metadata": {},
     "output_type": "execute_result"
    }
   ],
   "source": [
    "house_data.describe()"
   ]
  },
  {
   "cell_type": "code",
   "execution_count": 99,
   "metadata": {
    "scrolled": true
   },
   "outputs": [
    {
     "data": {
      "text/plain": [
       "<matplotlib.axes._subplots.AxesSubplot at 0x7f5717ec57f0>"
      ]
     },
     "execution_count": 99,
     "metadata": {},
     "output_type": "execute_result"
    },
    {
     "data": {
      "image/png": "[encoded data removed]",
      "text/plain": [
       "<Figure size 432x288 with 1 Axes>"
      ]
     },
     "metadata": {
      "needs_background": "light"
     },
     "output_type": "display_data"
    }
   ],
   "source": [
    "house_data['YearBuilt'].hist()"
   ]
  },
  {
   "cell_type": "code",
   "execution_count": 100,
   "metadata": {},
   "outputs": [
    {
     "data": {
      "text/plain": [
       "2005.0    131\n",
       "2004.0    131\n",
       "2006.0    107\n",
       "2017.0    107\n",
       "1989.0    106\n",
       "         ... \n",
       "1900.0      1\n",
       "1916.0      1\n",
       "1902.0      1\n",
       "1903.0      1\n",
       "1933.0      1\n",
       "Name: YearBuilt, Length: 118, dtype: int64"
      ]
     },
     "execution_count": 100,
     "metadata": {},
     "output_type": "execute_result"
    }
   ],
   "source": [
    "house_data['YearBuilt'].value_counts()"
   ]
  },
  {
   "cell_type": "code",
   "execution_count": 101,
   "metadata": {},
   "outputs": [
    {
     "data": {
      "text/plain": [
       "<matplotlib.axes._subplots.AxesSubplot at 0x7f5717e5a710>"
      ]
     },
     "execution_count": 101,
     "metadata": {},
     "output_type": "execute_result"
    },
    {
     "data": {
      "image/png": "[encoded data removed]",
      "text/plain": [
       "<Figure size 432x288 with 1 Axes>"
      ]
     },
     "metadata": {
      "needs_background": "light"
     },
     "output_type": "display_data"
    }
   ],
   "source": [
    "house_data['field_StoriesTotal'].hist()"
   ]
  },
  {
   "cell_type": "code",
   "execution_count": 102,
   "metadata": {},
   "outputs": [
    {
     "data": {
      "text/plain": [
       "1.0    2668\n",
       "2.0    1827\n",
       "3.0     179\n",
       "0.0     151\n",
       "4.0      16\n",
       "5.0       4\n",
       "6.0       4\n",
       "7.0       2\n",
       "Name: field_StoriesTotal, dtype: int64"
      ]
     },
     "execution_count": 102,
     "metadata": {},
     "output_type": "execute_result"
    }
   ],
   "source": [
    "house_data['field_StoriesTotal'].value_counts()"
   ]
  },
  {
   "cell_type": "code",
   "execution_count": 103,
   "metadata": {},
   "outputs": [],
   "source": [
    "#we have 151 observations with 0 stories total"
   ]
  },
  {
   "cell_type": "code",
   "execution_count": 104,
   "metadata": {},
   "outputs": [],
   "source": [
    "house_data = house_data[house_data['field_StoriesTotal'] > 0.0]"
   ]
  },
  {
   "cell_type": "code",
   "execution_count": 105,
   "metadata": {},
   "outputs": [
    {
     "name": "stdout",
     "output_type": "stream",
     "text": [
      "done\n"
     ]
    }
   ],
   "source": [
    "#divide house_data into data and labels\n",
    "arr_house_data = np.array(house_data)\n",
    "data = arr_house_data[..., 0:6]\n",
    "labels = arr_house_data[..., 6]\n",
    "\n",
    "#split data & labels into training and testing sets\n",
    "train_ratio = 0.9\n",
    "split = int(train_ratio * data.shape[0])\n",
    "data_train = data[:split, :]\n",
    "data_test = data[split:, :]\n",
    "labels_train = labels[:split]\n",
    "labels_test = labels[split:]\n",
    "print('done')"
   ]
  },
  {
   "cell_type": "code",
   "execution_count": 106,
   "metadata": {},
   "outputs": [
    {
     "name": "stdout",
     "output_type": "stream",
     "text": [
      "done\n"
     ]
    }
   ],
   "source": [
    "mean = data_train.mean(axis = 0)\n",
    "data_train = data_train - mean\n",
    "std = data_train.std(axis = 0)\n",
    "data_train = data_train / std\n",
    "data_test -= mean\n",
    "data_test /= std\n",
    "print('done')"
   ]
  },
  {
   "cell_type": "code",
   "execution_count": 30,
   "metadata": {},
   "outputs": [
    {
     "name": "stdout",
     "output_type": "stream",
     "text": [
      "Model: \"sequential_10\"\n",
      "_________________________________________________________________\n",
      "Layer (type)                 Output Shape              Param #   \n",
      "=================================================================\n",
      "dense_30 (Dense)             (None, 8)                 56        \n",
      "_________________________________________________________________\n",
      "dense_31 (Dense)             (None, 64)                576       \n",
      "_________________________________________________________________\n",
      "dense_32 (Dense)             (None, 1)                 65        \n",
      "=================================================================\n",
      "Total params: 697\n",
      "Trainable params: 697\n",
      "Non-trainable params: 0\n",
      "_________________________________________________________________\n",
      "done\n"
     ]
    }
   ],
   "source": [
    "#build model\n",
    "def build_model():\n",
    "    model = tf.keras.models.Sequential([\n",
    "        layers.Dense(8, activation='relu', input_shape=(data_train.shape[1],)),\n",
    "        layers.Dense(64, activation='relu'),\n",
    "        layers.Dense(1)\n",
    "    ])                 \n",
    "    model.compile(loss='mse', optimizer='Adam', metrics=['mse'])\n",
    "    return model\n",
    "model = build_model()\n",
    "model.summary()\n",
    "print('done')"
   ]
  },
  {
   "cell_type": "code",
   "execution_count": 31,
   "metadata": {},
   "outputs": [
    {
     "name": "stdout",
     "output_type": "stream",
     "text": [
      "processing fold # 0\n",
      "done\n",
      "processing fold # 1\n",
      "done\n",
      "processing fold # 2\n",
      "done\n",
      "processing fold # 3\n",
      "done\n"
     ]
    }
   ],
   "source": [
    "#k-fold validation\n",
    "k = 4\n",
    "num_epochs = 100\n",
    "all_scores = []\n",
    "num_val_samples = len(data_train)//k\n",
    "for i in range(k):\n",
    "    print('processing fold #', i)\n",
    "    val_data = data_train[i * num_val_samples : (i + 1) * num_val_samples]\n",
    "    val_labels = labels_train[i * num_val_samples : (i + 1) * num_val_samples]\n",
    "    \n",
    "    partial_train_data = np.concatenate([data_train[: i * num_val_samples], data_train[(i + 1) * num_val_samples :]], axis=0)\n",
    "    partial_train_labels = np.concatenate([labels_train[: i * num_val_samples], labels_train[(i + 1) * num_val_samples :]], axis=0)\n",
    "    \n",
    "    model = build_model()\n",
    "    model.fit(partial_train_data, partial_train_labels,\n",
    "              epochs=num_epochs, batch_size=100, verbose=0)\n",
    "    val_mse = model.evaluate(val_data, val_labels, verbose=0)\n",
    "    all_scores.append(val_mse)\n",
    "    print('done')"
   ]
  },
  {
   "cell_type": "code",
   "execution_count": 32,
   "metadata": {},
   "outputs": [
    {
     "name": "stdout",
     "output_type": "stream",
     "text": [
      "[[806260166447.5114, 806260200000.0], [958358068933.6633, 958358100000.0], [677829473632.025, 677829540000.0], [752886213876.5732, 752886200000.0]]\n"
     ]
    }
   ],
   "source": [
    "print(all_scores)"
   ]
  },
  {
   "cell_type": "code",
   "execution_count": 33,
   "metadata": {},
   "outputs": [
    {
     "name": "stdout",
     "output_type": "stream",
     "text": [
      "processing fold # 0\n",
      "processing fold # 1\n",
      "processing fold # 2\n",
      "processing fold # 3\n",
      "dict_keys(['loss', 'mean_squared_error', 'val_loss', 'val_mean_squared_error'])\n"
     ]
    }
   ],
   "source": [
    "num_epochs = 500\n",
    "all_mse_histories = []\n",
    "for i in range(k):\n",
    "    print('processing fold #', i)\n",
    "    val_data = data_train[i * num_val_samples: (i + 1) * num_val_samples]\n",
    "    val_targets = labels_train[i * num_val_samples: (i + 1) * num_val_samples]\n",
    "    \n",
    "    partial_train_data = np.concatenate(\n",
    "        [data_train[:i * num_val_samples],\n",
    "         data_train[(i + 1) * num_val_samples:]],\n",
    "        axis = 0)\n",
    "    \n",
    "    partial_train_labels = np.concatenate(\n",
    "        [labels_train[:i * num_val_samples],\n",
    "         labels_train[(i + 1) * num_val_samples:]],\n",
    "        axis = 0)\n",
    "    \n",
    "    model = build_model()\n",
    "    history = model.fit(partial_train_data, partial_train_labels,\n",
    "                        validation_data = (val_data, val_targets),\n",
    "                        epochs = num_epochs, batch_size = 100, verbose=0)\n",
    "    mse_history = history.history['val_mean_squared_error']\n",
    "    all_mse_histories.append(mse_history)\n",
    "print(history.history.keys())"
   ]
  },
  {
   "cell_type": "code",
   "execution_count": 34,
   "metadata": {},
   "outputs": [
    {
     "name": "stdout",
     "output_type": "stream",
     "text": [
      "done\n"
     ]
    }
   ],
   "source": [
    "average_mse_history = [\n",
    "    np.mean([x[i] for x in all_mse_histories]) for i in range(num_epochs)]\n",
    "print('done')"
   ]
  },
  {
   "cell_type": "code",
   "execution_count": null,
   "metadata": {},
   "outputs": [],
   "source": [
    "house"
   ]
  },
  {
   "cell_type": "code",
   "execution_count": 35,
   "metadata": {},
   "outputs": [
    {
     "data": {
      "image/png": "[encoded data removed]",
      "text/plain": [
       "<Figure size 432x288 with 1 Axes>"
      ]
     },
     "metadata": {
      "needs_background": "light"
     },
     "output_type": "display_data"
    }
   ],
   "source": [
    "plt.plot(range(1, len(average_mse_history) + 1), average_mse_history)\n",
    "plt.xlabel('Epochs')\n",
    "plt.ylabel('Validation MSE')\n",
    "plt.show()"
   ]
  },
  {
   "cell_type": "code",
   "execution_count": 36,
   "metadata": {},
   "outputs": [
    {
     "data": {
      "image/png": "[encoded data removed]",
      "text/plain": [
       "<Figure size 432x288 with 1 Axes>"
      ]
     },
     "metadata": {
      "needs_background": "light"
     },
     "output_type": "display_data"
    }
   ],
   "source": [
    "def smooth_curve(points, factor = 0.9):\n",
    "    smoothed_points = []\n",
    "    for point in points:\n",
    "        if smoothed_points:\n",
    "            previous = smoothed_points[-1]\n",
    "            smoothed_points.append(previous * factor + point * (1 - factor))\n",
    "        else:\n",
    "            smoothed_points.append(point)\n",
    "    return smoothed_points\n",
    "\n",
    "smooth_mse_history = smooth_curve(average_mse_history[10:])\n",
    "\n",
    "plt.plot(range(1, len(smooth_mse_history) + 1), smooth_mse_history)\n",
    "plt.xlabel('Epochs')\n",
    "plt.ylabel('Validation MSE')\n",
    "plt.show()"
   ]
  },
  {
   "cell_type": "code",
   "execution_count": null,
   "metadata": {},
   "outputs": [],
   "source": []
  },
  {
   "cell_type": "code",
   "execution_count": 37,
   "metadata": {},
   "outputs": [
    {
     "name": "stdout",
     "output_type": "stream",
     "text": [
      "done\n"
     ]
    }
   ],
   "source": [
    "model = build_model()\n",
    "model.fit(data_train, labels_train,\n",
    "          epochs = 80, batch_size = 16, verbose = 0)\n",
    "test_mse_score = model.evaluate(data_test, labels_test, verbose=0)\n",
    "print('done')"
   ]
  },
  {
   "cell_type": "code",
   "execution_count": 38,
   "metadata": {},
   "outputs": [
    {
     "data": {
      "text/plain": [
       "[362688123399.21124, 362688200000.0]"
      ]
     },
     "execution_count": 38,
     "metadata": {},
     "output_type": "execute_result"
    }
   ],
   "source": [
    "test_mse_score"
   ]
  },
  {
   "cell_type": "code",
   "execution_count": null,
   "metadata": {},
   "outputs": [],
   "source": []
  },
  {
   "cell_type": "code",
   "execution_count": 26,
   "metadata": {},
   "outputs": [
    {
     "data": {
      "text/plain": [
       "array([[-0.4744199 , -0.11645623, -0.05735734, -0.29323439, -0.59989284,\n",
       "        -0.61253561],\n",
       "       [-0.82869841, -0.10722342,  0.21855337, -0.29323439, -0.59989284,\n",
       "        -0.61253561],\n",
       "       [ 1.86903709, -0.07112422,  0.10030592, -0.29323439,  0.3529988 ,\n",
       "        -0.61253561],\n",
       "       ...,\n",
       "       [-0.10809793, -0.10950159,  0.88862222, -1.27004518,  0.3529988 ,\n",
       "         3.21238124],\n",
       "       [-0.64503561, -0.11923275, -2.0675639 , -0.29323439, -0.59989284,\n",
       "        -0.61253561],\n",
       "       [-0.7132819 ,  0.84228384, -0.17560478, -0.29323439,  0.3529988 ,\n",
       "         0.66243668]])"
      ]
     },
     "execution_count": 26,
     "metadata": {},
     "output_type": "execute_result"
    }
   ],
   "source": [
    "data_train"
   ]
  },
  {
   "cell_type": "code",
   "execution_count": 107,
   "metadata": {},
   "outputs": [
    {
     "data": {
      "text/plain": [
       "LinearRegression(copy_X=True, fit_intercept=True, n_jobs=None, normalize=False)"
      ]
     },
     "execution_count": 107,
     "metadata": {},
     "output_type": "execute_result"
    }
   ],
   "source": [
    "from sklearn.linear_model import LinearRegression\n",
    "\n",
    "scikit_house = LinearRegression()\n",
    "scikit_house.fit(data_train, labels_train)"
   ]
  },
  {
   "cell_type": "code",
   "execution_count": 108,
   "metadata": {},
   "outputs": [],
   "source": [
    "scikit_pred_house = scikit_house.predict(data_train)"
   ]
  },
  {
   "cell_type": "code",
   "execution_count": 109,
   "metadata": {},
   "outputs": [],
   "source": [
    "def mean_squared_error(y_hat, y):\n",
    "    return np.mean((y_hat-y)**2)"
   ]
  },
  {
   "cell_type": "code",
   "execution_count": 110,
   "metadata": {},
   "outputs": [],
   "source": [
    "scikit_scores = mean_squared_error(scikit_pred_house, labels_train)"
   ]
  },
  {
   "cell_type": "code",
   "execution_count": 111,
   "metadata": {},
   "outputs": [
    {
     "name": "stdout",
     "output_type": "stream",
     "text": [
      "308034614473.35974\n"
     ]
    }
   ],
   "source": [
    "print(scikit_scores)"
   ]
  },
  {
   "cell_type": "code",
   "execution_count": 112,
   "metadata": {},
   "outputs": [
    {
     "name": "stdout",
     "output_type": "stream",
     "text": [
      "289873400948.25195\n"
     ]
    }
   ],
   "source": [
    "scikit_pred_test = scikit_house.predict(data_test)\n",
    "scikit_test_scores = mean_squared_error(scikit_pred_test, labels_test)\n",
    "print(scikit_test_scores)"
   ]
  },
  {
   "cell_type": "code",
   "execution_count": null,
   "metadata": {},
   "outputs": [],
   "source": []
  }
 ],
 "metadata": {
  "kernelspec": {
   "display_name": "Python 3",
   "language": "python",
   "name": "python3"
  },
  "language_info": {
   "codemirror_mode": {
    "name": "ipython",
    "version": 3
   },
   "file_extension": ".py",
   "mimetype": "text/x-python",
   "name": "python",
   "nbconvert_exporter": "python",
   "pygments_lexer": "ipython3",
   "version": "3.8.5"
  }
 },
 "nbformat": 4,
 "nbformat_minor": 2
}
