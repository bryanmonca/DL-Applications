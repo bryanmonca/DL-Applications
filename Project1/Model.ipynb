{
 "cells": [
  {
   "cell_type": "markdown",
   "metadata": {},
   "source": [
    "# Modeling"
   ]
  },
  {
   "cell_type": "code",
   "execution_count": 62,
   "metadata": {},
   "outputs": [
    {
     "data": {
      "text/html": [
       "<div>\n",
       "<style scoped>\n",
       "    .dataframe tbody tr th:only-of-type {\n",
       "        vertical-align: middle;\n",
       "    }\n",
       "\n",
       "    .dataframe tbody tr th {\n",
       "        vertical-align: top;\n",
       "    }\n",
       "\n",
       "    .dataframe thead th {\n",
       "        text-align: right;\n",
       "    }\n",
       "</style>\n",
       "<table border=\"1\" class=\"dataframe\">\n",
       "  <thead>\n",
       "    <tr style=\"text-align: right;\">\n",
       "      <th></th>\n",
       "      <th>SquareFootageStructure</th>\n",
       "      <th>LotSquareFootage</th>\n",
       "      <th>YearBuilt</th>\n",
       "      <th>Bedrooms</th>\n",
       "      <th>BathsTotal</th>\n",
       "      <th>field_StoriesTotal</th>\n",
       "      <th>population</th>\n",
       "      <th>total_income</th>\n",
       "      <th>ListPrice</th>\n",
       "    </tr>\n",
       "  </thead>\n",
       "  <tbody>\n",
       "    <tr>\n",
       "      <th>0</th>\n",
       "      <td>3884.0</td>\n",
       "      <td>16013.0</td>\n",
       "      <td>1978.0</td>\n",
       "      <td>3.0</td>\n",
       "      <td>3.0</td>\n",
       "      <td>1.0</td>\n",
       "      <td>25374.0</td>\n",
       "      <td>4367172.0</td>\n",
       "      <td>2599000.0</td>\n",
       "    </tr>\n",
       "    <tr>\n",
       "      <th>1</th>\n",
       "      <td>1164.0</td>\n",
       "      <td>6611.0</td>\n",
       "      <td>1961.0</td>\n",
       "      <td>3.0</td>\n",
       "      <td>2.0</td>\n",
       "      <td>1.0</td>\n",
       "      <td>63557.0</td>\n",
       "      <td>952039.0</td>\n",
       "      <td>499999.0</td>\n",
       "    </tr>\n",
       "    <tr>\n",
       "      <th>2</th>\n",
       "      <td>2766.0</td>\n",
       "      <td>7331.0</td>\n",
       "      <td>1986.0</td>\n",
       "      <td>4.0</td>\n",
       "      <td>3.0</td>\n",
       "      <td>2.0</td>\n",
       "      <td>34017.0</td>\n",
       "      <td>1538628.0</td>\n",
       "      <td>929800.0</td>\n",
       "    </tr>\n",
       "    <tr>\n",
       "      <th>3</th>\n",
       "      <td>3339.0</td>\n",
       "      <td>20473.0</td>\n",
       "      <td>2001.0</td>\n",
       "      <td>4.0</td>\n",
       "      <td>4.0</td>\n",
       "      <td>1.0</td>\n",
       "      <td>39121.0</td>\n",
       "      <td>1205910.0</td>\n",
       "      <td>689900.0</td>\n",
       "    </tr>\n",
       "    <tr>\n",
       "      <th>4</th>\n",
       "      <td>1400.0</td>\n",
       "      <td>7728.0</td>\n",
       "      <td>1910.0</td>\n",
       "      <td>4.0</td>\n",
       "      <td>2.0</td>\n",
       "      <td>1.0</td>\n",
       "      <td>2030.0</td>\n",
       "      <td>15729.0</td>\n",
       "      <td>245000.0</td>\n",
       "    </tr>\n",
       "  </tbody>\n",
       "</table>\n",
       "</div>"
      ],
      "text/plain": [
       "   SquareFootageStructure  LotSquareFootage  YearBuilt  Bedrooms  BathsTotal  \\\n",
       "0                  3884.0           16013.0     1978.0       3.0         3.0   \n",
       "1                  1164.0            6611.0     1961.0       3.0         2.0   \n",
       "2                  2766.0            7331.0     1986.0       4.0         3.0   \n",
       "3                  3339.0           20473.0     2001.0       4.0         4.0   \n",
       "4                  1400.0            7728.0     1910.0       4.0         2.0   \n",
       "\n",
       "   field_StoriesTotal  population  total_income  ListPrice  \n",
       "0                 1.0     25374.0     4367172.0  2599000.0  \n",
       "1                 1.0     63557.0      952039.0   499999.0  \n",
       "2                 2.0     34017.0     1538628.0   929800.0  \n",
       "3                 1.0     39121.0     1205910.0   689900.0  \n",
       "4                 1.0      2030.0       15729.0   245000.0  "
      ]
     },
     "execution_count": 62,
     "metadata": {},
     "output_type": "execute_result"
    }
   ],
   "source": [
    "import numpy as np\n",
    "import pandas as pd\n",
    "import matplotlib.pyplot as plt\n",
    "import tensorflow as tf\n",
    "from tensorflow.keras import layers\n",
    "\n",
    "#load data\n",
    "house_data = pd.read_csv('data_proj.csv')\n",
    "house_data.head(5)"
   ]
  },
  {
   "cell_type": "code",
   "execution_count": 63,
   "metadata": {
    "scrolled": true
   },
   "outputs": [
    {
     "name": "stdout",
     "output_type": "stream",
     "text": [
      "done\n"
     ]
    }
   ],
   "source": [
    "#divide house_data into data and labels\n",
    "house_data = np.array(house_data)\n",
    "data = house_data[..., 0:8]\n",
    "labels = house_data[..., 8]\n",
    "\n",
    "#split data & labels into training and testing sets\n",
    "train_ratio = 0.9\n",
    "split = round(train_ratio*data.shape[0])\n",
    "data_train = data[: split]\n",
    "data_test = data[split :]\n",
    "labels_train = labels[: split]\n",
    "labels_test = labels[split :]\n",
    "print('done')"
   ]
  },
  {
   "cell_type": "code",
   "execution_count": 64,
   "metadata": {},
   "outputs": [
    {
     "name": "stdout",
     "output_type": "stream",
     "text": [
      "done\n"
     ]
    }
   ],
   "source": [
    "#We use standard normalization on our features\n",
    "mean = data_train.mean(axis = 0)\n",
    "data_train = data_train - mean\n",
    "std = data_train.std(axis = 0)\n",
    "data_train = data_train / std\n",
    "data_test -= mean\n",
    "data_test /= std\n",
    "print('done')"
   ]
  },
  {
   "cell_type": "code",
   "execution_count": 65,
   "metadata": {},
   "outputs": [
    {
     "name": "stdout",
     "output_type": "stream",
     "text": [
      "Model: \"sequential_24\"\n",
      "_________________________________________________________________\n",
      "Layer (type)                 Output Shape              Param #   \n",
      "=================================================================\n",
      "dense_83 (Dense)             (None, 8)                 72        \n",
      "_________________________________________________________________\n",
      "dense_84 (Dense)             (None, 128)               1152      \n",
      "_________________________________________________________________\n",
      "dense_85 (Dense)             (None, 64)                8256      \n",
      "_________________________________________________________________\n",
      "dense_86 (Dense)             (None, 32)                2080      \n",
      "_________________________________________________________________\n",
      "dense_87 (Dense)             (None, 1)                 33        \n",
      "=================================================================\n",
      "Total params: 11,593\n",
      "Trainable params: 11,593\n",
      "Non-trainable params: 0\n",
      "_________________________________________________________________\n",
      "done\n"
     ]
    }
   ],
   "source": [
    "#build model\n",
    "def build_model():\n",
    "    model = tf.keras.models.Sequential([\n",
    "        layers.Dense(8, activation='relu', input_shape=(data_train.shape[1],)),\n",
    "        layers.Dense(128, activation='relu'),\n",
    "        layers.Dense(64, activation='relu'),\n",
    "        layers.Dense(32, activation='relu'),        \n",
    "        layers.Dense(1)\n",
    "    ])                 \n",
    "    model.compile(loss='mse', optimizer=tf.keras.optimizers.RMSprop(learning_rate = 1e-3), metrics=['mae'])\n",
    "    return model\n",
    "model = build_model()\n",
    "model.summary()\n",
    "print('done')"
   ]
  },
  {
   "cell_type": "code",
   "execution_count": 66,
   "metadata": {
    "scrolled": false
   },
   "outputs": [
    {
     "name": "stdout",
     "output_type": "stream",
     "text": [
      "processing fold # 0\n",
      "239107.75\n",
      "processing fold # 1\n",
      "242472.17\n",
      "processing fold # 2\n",
      "216530.98\n",
      "processing fold # 3\n",
      "244393.53\n"
     ]
    }
   ],
   "source": [
    "#k-fold validation\n",
    "k = 4\n",
    "num_epochs = 40\n",
    "all_scores = []\n",
    "num_val_samples = len(data_train)//k\n",
    "for i in range(k):\n",
    "    print('processing fold #', i)\n",
    "    val_data = data_train[i * num_val_samples : (i + 1) * num_val_samples]\n",
    "    val_labels = labels_train[i * num_val_samples : (i + 1) * num_val_samples]\n",
    "    \n",
    "    partial_train_data = np.concatenate([data_train[: i * num_val_samples], data_train[(i + 1) * num_val_samples :]], axis=0)\n",
    "    partial_train_labels = np.concatenate([labels_train[: i * num_val_samples], labels_train[(i + 1) * num_val_samples :]], axis=0)\n",
    "    \n",
    "    model = build_model()\n",
    "    model.fit(partial_train_data, partial_train_labels,\n",
    "              epochs=num_epochs, batch_size=5, verbose=0)\n",
    "    val_mse, val_mae = model.evaluate(val_data, val_labels, verbose=0)\n",
    "    all_scores.append(val_mae)\n",
    "    print(val_mae)"
   ]
  },
  {
   "cell_type": "code",
   "execution_count": 67,
   "metadata": {
    "scrolled": true
   },
   "outputs": [
    {
     "name": "stdout",
     "output_type": "stream",
     "text": [
      "[239107.75, 242472.17, 216530.98, 244393.53]\n"
     ]
    }
   ],
   "source": [
    "print(all_scores)"
   ]
  },
  {
   "cell_type": "code",
   "execution_count": 94,
   "metadata": {},
   "outputs": [
    {
     "name": "stdout",
     "output_type": "stream",
     "text": [
      "235626.12\n"
     ]
    }
   ],
   "source": [
    "# Average validation MAE\n",
    "print(np.mean(all_scores))"
   ]
  },
  {
   "cell_type": "code",
   "execution_count": 68,
   "metadata": {},
   "outputs": [
    {
     "name": "stdout",
     "output_type": "stream",
     "text": [
      "processing fold # 0\n",
      "processing fold # 1\n",
      "processing fold # 2\n",
      "processing fold # 3\n",
      "dict_keys(['loss', 'mae', 'val_loss', 'val_mae'])\n"
     ]
    }
   ],
   "source": [
    "# We are going to save the train loss, validation loss, train accuracy (mae), and validation accuracy (mae)\n",
    "# for each processing fold.\n",
    "num_epochs = 40\n",
    "val_loss_histories = []\n",
    "val_mae_histories = []\n",
    "train_loss_histories = []\n",
    "train_mae_histories = []\n",
    "for i in range(k):\n",
    "    print('processing fold #', i)\n",
    "    val_data = data_train[i * num_val_samples: (i + 1) * num_val_samples]\n",
    "    val_targets = labels_train[i * num_val_samples: (i + 1) * num_val_samples]\n",
    "    \n",
    "    partial_train_data = np.concatenate(\n",
    "        [data_train[:i * num_val_samples],\n",
    "         data_train[(i + 1) * num_val_samples:]],\n",
    "        axis = 0)\n",
    "    \n",
    "    partial_train_labels = np.concatenate(\n",
    "        [labels_train[:i * num_val_samples],\n",
    "         labels_train[(i + 1) * num_val_samples:]],\n",
    "        axis = 0)\n",
    "    \n",
    "    model = build_model()\n",
    "    history = model.fit(partial_train_data, partial_train_labels,\n",
    "                        validation_data = (val_data, val_targets),\n",
    "                        epochs = num_epochs, batch_size = 5, verbose=0)\n",
    "    val_loss = history.history['val_loss']\n",
    "    val_mae = history.history['val_mae']\n",
    "    train_loss = history.history['loss']\n",
    "    train_mae = history.history['mae']\n",
    "    val_loss_histories.append(val_loss)\n",
    "    val_mae_histories.append(val_mae)\n",
    "    train_loss_histories.append(train_loss)\n",
    "    train_mae_histories.append(train_mae)\n",
    "print(history.history.keys())"
   ]
  },
  {
   "cell_type": "code",
   "execution_count": 92,
   "metadata": {},
   "outputs": [
    {
     "name": "stdout",
     "output_type": "stream",
     "text": [
      "done\n"
     ]
    }
   ],
   "source": [
    "# We take the average for all of the k groups, for each epoch. So, our result is going to be an array of 40 elements\n",
    "average_loss_val_history = [\n",
    "    np.mean([x[i] for x in val_loss_histories]) for i in range(num_epochs)]\n",
    "print('done')"
   ]
  },
  {
   "cell_type": "code",
   "execution_count": 70,
   "metadata": {
    "scrolled": true
   },
   "outputs": [
    {
     "data": {
      "image/png": "[encoded data removed]",
      "text/plain": [
       "<Figure size 432x288 with 1 Axes>"
      ]
     },
     "metadata": {
      "needs_background": "light"
     },
     "output_type": "display_data"
    }
   ],
   "source": [
    "# average_loss_val_history\n",
    "plt.plot(range(1, len(average_loss_val_history) + 1), average_loss_val_history)\n",
    "plt.xlabel('Epochs')\n",
    "plt.ylabel('Validation loss')\n",
    "plt.show()"
   ]
  },
  {
   "cell_type": "code",
   "execution_count": 71,
   "metadata": {},
   "outputs": [
    {
     "name": "stdout",
     "output_type": "stream",
     "text": [
      "done\n"
     ]
    }
   ],
   "source": [
    "average_loss_train_history = [\n",
    "    np.mean([x[i] for x in train_loss_histories]) for i in range(num_epochs)]\n",
    "print('done')"
   ]
  },
  {
   "cell_type": "code",
   "execution_count": 72,
   "metadata": {},
   "outputs": [
    {
     "data": {
      "image/png": "[encoded data removed]",
      "text/plain": [
       "<Figure size 432x288 with 1 Axes>"
      ]
     },
     "metadata": {
      "needs_background": "light"
     },
     "output_type": "display_data"
    }
   ],
   "source": [
    "# average_loss_train_history\n",
    "plt.plot(range(1, len(average_loss_train_history) + 1), average_loss_train_history)\n",
    "plt.xlabel('Epochs')\n",
    "plt.ylabel('Train loss')\n",
    "plt.show()"
   ]
  },
  {
   "cell_type": "code",
   "execution_count": 73,
   "metadata": {
    "scrolled": true
   },
   "outputs": [
    {
     "data": {
      "image/png": "[encoded data removed]",
      "text/plain": [
       "<Figure size 432x288 with 1 Axes>"
      ]
     },
     "metadata": {
      "needs_background": "light"
     },
     "output_type": "display_data"
    }
   ],
   "source": [
    "# average_loss_train_history and # average_loss_val_history\n",
    "plt.plot(range(1, len(average_loss_val_history) + 1), average_loss_val_history, label = 'loss_val')\n",
    "plt.plot(range(1, len(average_loss_train_history) + 1), average_loss_train_history, label = 'loss_train')\n",
    "plt.xlabel('Epochs')\n",
    "plt.ylabel('Loss - error')\n",
    "plt.legend(loc='upper right')\n",
    "plt.show()"
   ]
  },
  {
   "cell_type": "code",
   "execution_count": 74,
   "metadata": {},
   "outputs": [
    {
     "name": "stdout",
     "output_type": "stream",
     "text": [
      "done\n"
     ]
    }
   ],
   "source": [
    "average_mae_val_history = [\n",
    "    np.mean([x[i] for x in val_mae_histories]) for i in range(num_epochs)]\n",
    "print('done')"
   ]
  },
  {
   "cell_type": "code",
   "execution_count": 75,
   "metadata": {},
   "outputs": [
    {
     "data": {
      "image/png": "[encoded data removed]",
      "text/plain": [
       "<Figure size 432x288 with 1 Axes>"
      ]
     },
     "metadata": {
      "needs_background": "light"
     },
     "output_type": "display_data"
    }
   ],
   "source": [
    "# average_mae_val_history\n",
    "\n",
    "plt.plot(range(1, len(average_mae_val_history) + 1), average_mae_val_history)\n",
    "plt.xlabel('Epochs')\n",
    "plt.ylabel('Validation mae')\n",
    "plt.show()"
   ]
  },
  {
   "cell_type": "code",
   "execution_count": 76,
   "metadata": {},
   "outputs": [
    {
     "name": "stdout",
     "output_type": "stream",
     "text": [
      "done\n"
     ]
    }
   ],
   "source": [
    "average_mae_train_history = [\n",
    "    np.mean([x[i] for x in train_mae_histories]) for i in range(num_epochs)]\n",
    "print('done')"
   ]
  },
  {
   "cell_type": "code",
   "execution_count": 77,
   "metadata": {},
   "outputs": [
    {
     "data": {
      "image/png": "[encoded data removed]",
      "text/plain": [
       "<Figure size 432x288 with 1 Axes>"
      ]
     },
     "metadata": {
      "needs_background": "light"
     },
     "output_type": "display_data"
    }
   ],
   "source": [
    "# average_mae_train_history \n",
    "\n",
    "plt.plot(range(1, len(average_mae_train_history) + 1), average_mae_train_history)\n",
    "plt.xlabel('Epochs')\n",
    "plt.ylabel('Train mae')\n",
    "plt.show()"
   ]
  },
  {
   "cell_type": "code",
   "execution_count": 78,
   "metadata": {},
   "outputs": [
    {
     "data": {
      "image/png": "[encoded data removed]",
      "text/plain": [
       "<Figure size 432x288 with 1 Axes>"
      ]
     },
     "metadata": {
      "needs_background": "light"
     },
     "output_type": "display_data"
    }
   ],
   "source": [
    "# average_mae_train_history and average_mae_val_history\n",
    "\n",
    "plt.plot(range(1, len(average_mae_val_history) + 1), average_mae_val_history, label = 'mae_val')\n",
    "plt.plot(range(1, len(average_mae_train_history) + 1), average_mae_train_history, label = 'mae_train')\n",
    "plt.xlabel('Epochs')\n",
    "plt.ylabel('MAE - accuracy')\n",
    "plt.legend(loc='upper right')\n",
    "plt.show()"
   ]
  },
  {
   "cell_type": "code",
   "execution_count": 79,
   "metadata": {},
   "outputs": [
    {
     "name": "stdout",
     "output_type": "stream",
     "text": [
      "done\n"
     ]
    }
   ],
   "source": [
    "# TESTING\n",
    "\n",
    "model = build_model()\n",
    "model.fit(data_train, labels_train,\n",
    "          epochs = 80, batch_size = 5, verbose = 0)\n",
    "test_mse_score, test_mae_score = model.evaluate(data_test, labels_test, verbose=0)\n",
    "print('done')"
   ]
  },
  {
   "cell_type": "code",
   "execution_count": 80,
   "metadata": {},
   "outputs": [
    {
     "data": {
      "text/plain": [
       "244023.22"
      ]
     },
     "execution_count": 80,
     "metadata": {},
     "output_type": "execute_result"
    }
   ],
   "source": [
    "# Testing mae score\n",
    "test_mae_score"
   ]
  },
  {
   "cell_type": "code",
   "execution_count": null,
   "metadata": {},
   "outputs": [],
   "source": []
  },
  {
   "cell_type": "code",
   "execution_count": 95,
   "metadata": {},
   "outputs": [
    {
     "data": {
      "text/plain": [
       "LinearRegression(copy_X=True, fit_intercept=True, n_jobs=None, normalize=False)"
      ]
     },
     "execution_count": 95,
     "metadata": {},
     "output_type": "execute_result"
    }
   ],
   "source": [
    "# Linear Regression algorithm - Scikit Learn\n",
    "\n",
    "from sklearn.linear_model import LinearRegression\n",
    "\n",
    "scikit_house = LinearRegression()\n",
    "scikit_house.fit(data_train, labels_train)"
   ]
  },
  {
   "cell_type": "code",
   "execution_count": 96,
   "metadata": {},
   "outputs": [],
   "source": [
    "scikit_pred_house = scikit_house.predict(data_train)"
   ]
  },
  {
   "cell_type": "code",
   "execution_count": 97,
   "metadata": {},
   "outputs": [],
   "source": [
    "def mae(y_hat, y):\n",
    "    return np.mean(np.abs(y - y_hat))"
   ]
  },
  {
   "cell_type": "code",
   "execution_count": 99,
   "metadata": {},
   "outputs": [],
   "source": [
    "mae_scores = mae(scikit_pred_house, labels_train)"
   ]
  },
  {
   "cell_type": "code",
   "execution_count": 102,
   "metadata": {},
   "outputs": [
    {
     "name": "stdout",
     "output_type": "stream",
     "text": [
      "270629.45000313007\n"
     ]
    }
   ],
   "source": [
    "print(mae_scores)"
   ]
  },
  {
   "cell_type": "code",
   "execution_count": 101,
   "metadata": {},
   "outputs": [
    {
     "name": "stdout",
     "output_type": "stream",
     "text": [
      "293669.1998747875\n"
     ]
    }
   ],
   "source": [
    "scikit_pred_test = scikit_house.predict(data_test)\n",
    "scikit_test_scores = mae(scikit_pred_test, labels_test)\n",
    "print(scikit_test_scores)"
   ]
  },
  {
   "cell_type": "code",
   "execution_count": null,
   "metadata": {},
   "outputs": [],
   "source": [
    "# Using the testing set, we got an accuracy of around 293,669"
   ]
  }
 ],
 "metadata": {
  "kernelspec": {
   "display_name": "Python 3",
   "language": "python",
   "name": "python3"
  },
  "language_info": {
   "codemirror_mode": {
    "name": "ipython",
    "version": 3
   },
   "file_extension": ".py",
   "mimetype": "text/x-python",
   "name": "python",
   "nbconvert_exporter": "python",
   "pygments_lexer": "ipython3",
   "version": "3.7.6"
  }
 },
 "nbformat": 4,
 "nbformat_minor": 2
}
