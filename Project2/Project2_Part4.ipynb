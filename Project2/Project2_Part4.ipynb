{
 "cells": [
  {
   "cell_type": "markdown",
   "metadata": {},
   "source": [
    "## Part 4: Transfer Learning"
   ]
  },
  {
   "cell_type": "code",
   "execution_count": 1,
   "metadata": {},
   "outputs": [
    {
     "name": "stdout",
     "output_type": "stream",
     "text": [
      "done\n"
     ]
    }
   ],
   "source": [
    "# Importing libraries to build the model and plots\n",
    "import tensorflow as tf\n",
    "from tensorflow.keras import datasets, layers, models\n",
    "import matplotlib.pyplot as plt\n",
    "import numpy as np\n",
    "from tensorflow.keras.activations import relu\n",
    "from tensorflow.keras.optimizers import SGD, Adam\n",
    "print('done')"
   ]
  },
  {
   "cell_type": "code",
   "execution_count": 2,
   "metadata": {},
   "outputs": [
    {
     "name": "stdout",
     "output_type": "stream",
     "text": [
      "done\n"
     ]
    }
   ],
   "source": [
    "# Importing dataset\n",
    "(train_images, train_labels), (test_images, test_labels) = datasets.cifar10.load_data()\n",
    "train_images, test_images = train_images/255.0, test_images/255.0\n",
    "print('done')"
   ]
  },
  {
   "cell_type": "code",
   "execution_count": 4,
   "metadata": {},
   "outputs": [
    {
     "name": "stdout",
     "output_type": "stream",
     "text": [
      "done\n"
     ]
    }
   ],
   "source": [
    "# Modifying hyperparameters\n",
    "from tensorflow.keras.optimizers.schedules import PolynomialDecay, ExponentialDecay, InverseTimeDecay\n",
    "filter_size = (3, 3)\n",
    "pooling_size = (2, 2)\n",
    "reg = None\n",
    "num_epochs = 5\n",
    "bs = 256\n",
    "num_step = num_epochs*50000/bs\n",
    "ac = 'relu'\n",
    "learning_rate1 = ExponentialDecay(initial_learning_rate=0.1, decay_steps=num_step, decay_rate=0.8)\n",
    "learning_rate2 = ExponentialDecay(initial_learning_rate=0.1, decay_steps=num_step, decay_rate=0.5)\n",
    "adm=Adam(lr=0.001, beta_1=0.9, beta_2=0.999, epsilon=1e-08)\n",
    "print('done')"
   ]
  },
  {
   "cell_type": "markdown",
   "metadata": {},
   "source": [
    "#### Load 'project_2_2.h5' as 'cifar1'"
   ]
  },
  {
   "cell_type": "code",
   "execution_count": 5,
   "metadata": {
    "scrolled": true
   },
   "outputs": [
    {
     "name": "stdout",
     "output_type": "stream",
     "text": [
      "WARNING:tensorflow:Error in loading the saved optimizer state. As a result, your model is starting with a freshly initialized optimizer.\n"
     ]
    }
   ],
   "source": [
    "# Load best performed model in Part3\n",
    "cifar1 = models.load_model('project_2_2.h5')"
   ]
  },
  {
   "cell_type": "markdown",
   "metadata": {},
   "source": [
    "#### Train for another 10 epochs"
   ]
  },
  {
   "cell_type": "code",
   "execution_count": 6,
   "metadata": {},
   "outputs": [
    {
     "name": "stdout",
     "output_type": "stream",
     "text": [
      "Train on 50000 samples, validate on 10000 samples\n",
      "Epoch 1/10\n",
      "50000/50000 [==============================] - 48s 968us/sample - loss: 1.5124 - accuracy: 0.9557 - val_loss: 1.6243 - val_accuracy: 0.8416\n",
      "Epoch 2/10\n",
      "50000/50000 [==============================] - 41s 827us/sample - loss: 1.5110 - accuracy: 0.9565 - val_loss: 1.6290 - val_accuracy: 0.8362\n",
      "Epoch 3/10\n",
      "50000/50000 [==============================] - 41s 827us/sample - loss: 1.5113 - accuracy: 0.9562 - val_loss: 1.6298 - val_accuracy: 0.8337\n",
      "Epoch 4/10\n",
      "50000/50000 [==============================] - 42s 832us/sample - loss: 1.5092 - accuracy: 0.9579 - val_loss: 1.6306 - val_accuracy: 0.8349\n",
      "Epoch 5/10\n",
      "50000/50000 [==============================] - 41s 828us/sample - loss: 1.5100 - accuracy: 0.9572 - val_loss: 1.6299 - val_accuracy: 0.8354\n",
      "Epoch 6/10\n",
      "50000/50000 [==============================] - 41s 827us/sample - loss: 1.5085 - accuracy: 0.9586 - val_loss: 1.6307 - val_accuracy: 0.8355\n",
      "Epoch 7/10\n",
      "50000/50000 [==============================] - 41s 827us/sample - loss: 1.5069 - accuracy: 0.9600 - val_loss: 1.6270 - val_accuracy: 0.8376\n",
      "Epoch 8/10\n",
      "50000/50000 [==============================] - 41s 827us/sample - loss: 1.5073 - accuracy: 0.9596 - val_loss: 1.6256 - val_accuracy: 0.8398\n",
      "Epoch 9/10\n",
      "50000/50000 [==============================] - 41s 828us/sample - loss: 1.5068 - accuracy: 0.9600 - val_loss: 1.6271 - val_accuracy: 0.8381\n",
      "Epoch 10/10\n",
      "50000/50000 [==============================] - 41s 827us/sample - loss: 1.5049 - accuracy: 0.9618 - val_loss: 1.6274 - val_accuracy: 0.8371\n"
     ]
    }
   ],
   "source": [
    "history = cifar1.fit(train_images, train_labels, epochs=10, batch_size = 256, validation_data=(test_images, test_labels))"
   ]
  },
  {
   "cell_type": "code",
   "execution_count": 19,
   "metadata": {},
   "outputs": [
    {
     "name": "stdout",
     "output_type": "stream",
     "text": [
      "10000/1 - 4s - loss: 1.6205 - accuracy: 0.8080\n"
     ]
    },
    {
     "data": {
      "image/png": "[encoded data removed]",
      "text/plain": [
       "<Figure size 432x288 with 1 Axes>"
      ]
     },
     "metadata": {
      "needs_background": "light"
     },
     "output_type": "display_data"
    }
   ],
   "source": [
    "# Visualizing training and validation accuracy\n",
    "plt.plot(history.history['accuracy'], label='accuracy')\n",
    "plt.plot(history.history['val_accuracy'], label='val_accuracy')\n",
    "plt.xlabel('Epoch')\n",
    "plt.ylabel('Accuracy')\n",
    "plt.ylim([0.7, 1])\n",
    "plt.legend(loc='lower right')\n",
    "\n",
    "test_loss, test_accuracy = cifar1.evaluate(test_images, test_labels, verbose=2)"
   ]
  },
  {
   "cell_type": "markdown",
   "metadata": {},
   "source": [
    "#### Disable all layers before classification layer"
   ]
  },
  {
   "cell_type": "code",
   "execution_count": 21,
   "metadata": {},
   "outputs": [],
   "source": [
    "cifar2 = cifar1\n",
    "for layer in cifar2.layers[:22]:\n",
    "    layers.trainable = False\n",
    "cifar2.compile(optimizer=adm, \n",
    "              loss=tf.keras.losses.SparseCategoricalCrossentropy(from_logits=True), \n",
    "              metrics=['accuracy'])"
   ]
  },
  {
   "cell_type": "markdown",
   "metadata": {},
   "source": [
    "#### Train for 10 epochs"
   ]
  },
  {
   "cell_type": "code",
   "execution_count": 23,
   "metadata": {},
   "outputs": [
    {
     "name": "stdout",
     "output_type": "stream",
     "text": [
      "Train on 50000 samples, validate on 10000 samples\n",
      "Epoch 1/10\n",
      "50000/50000 [==============================] - 42s 834us/sample - loss: 1.5403 - accuracy: 0.9237 - val_loss: 1.6450 - val_accuracy: 0.8170\n",
      "Epoch 2/10\n",
      "50000/50000 [==============================] - 41s 829us/sample - loss: 1.5349 - accuracy: 0.9288 - val_loss: 1.6502 - val_accuracy: 0.8109\n",
      "Epoch 3/10\n",
      "50000/50000 [==============================] - 41s 825us/sample - loss: 1.5335 - accuracy: 0.9306 - val_loss: 1.6363 - val_accuracy: 0.8265\n",
      "Epoch 4/10\n",
      "50000/50000 [==============================] - 41s 825us/sample - loss: 1.5303 - accuracy: 0.9334 - val_loss: 1.6256 - val_accuracy: 0.8350\n",
      "Epoch 5/10\n",
      "50000/50000 [==============================] - 41s 826us/sample - loss: 1.5296 - accuracy: 0.9334 - val_loss: 1.6241 - val_accuracy: 0.8388\n",
      "Epoch 6/10\n",
      "50000/50000 [==============================] - 41s 826us/sample - loss: 1.5289 - accuracy: 0.9345 - val_loss: 1.6224 - val_accuracy: 0.8387\n",
      "Epoch 7/10\n",
      "50000/50000 [==============================] - 41s 826us/sample - loss: 1.5283 - accuracy: 0.9353 - val_loss: 1.6458 - val_accuracy: 0.8156\n",
      "Epoch 8/10\n",
      "50000/50000 [==============================] - 41s 826us/sample - loss: 1.5254 - accuracy: 0.9379 - val_loss: 1.6346 - val_accuracy: 0.8280\n",
      "Epoch 9/10\n",
      "50000/50000 [==============================] - 41s 826us/sample - loss: 1.5238 - accuracy: 0.9394 - val_loss: 1.6319 - val_accuracy: 0.8301\n",
      "Epoch 10/10\n",
      "50000/50000 [==============================] - 42s 831us/sample - loss: 1.5247 - accuracy: 0.9384 - val_loss: 1.6278 - val_accuracy: 0.8347\n"
     ]
    }
   ],
   "source": [
    "history = cifar2.fit(train_images, train_labels, epochs=10, batch_size = 256, validation_data=(test_images, test_labels))"
   ]
  },
  {
   "cell_type": "code",
   "execution_count": 11,
   "metadata": {},
   "outputs": [
    {
     "name": "stdout",
     "output_type": "stream",
     "text": [
      "10000/1 - 4s - loss: 1.6604 - accuracy: 0.8058\n"
     ]
    },
    {
     "data": {
      "image/png": "[encoded data removed]",
      "text/plain": [
       "<Figure size 432x288 with 1 Axes>"
      ]
     },
     "metadata": {
      "needs_background": "light"
     },
     "output_type": "display_data"
    }
   ],
   "source": [
    "# Visualizing training and validation accuracy\n",
    "plt.plot(history.history['accuracy'], label='accuracy')\n",
    "plt.plot(history.history['val_accuracy'], label='val_accuracy')\n",
    "plt.xlabel('Epoch')\n",
    "plt.ylabel('Accuracy')\n",
    "plt.ylim([0.7, 1])\n",
    "plt.legend(loc='lower right')\n",
    "\n",
    "test_loss, test_accuracy = cifar2.evaluate(test_images, test_labels, verbose=2)"
   ]
  },
  {
   "cell_type": "code",
   "execution_count": 13,
   "metadata": {},
   "outputs": [
    {
     "data": {
      "text/plain": [
       "23"
      ]
     },
     "execution_count": 13,
     "metadata": {},
     "output_type": "execute_result"
    }
   ],
   "source": [
    "len(cifar2.layers)"
   ]
  },
  {
   "cell_type": "markdown",
   "metadata": {},
   "source": [
    "#### Remove the original classification layer and add a new classification layer"
   ]
  },
  {
   "cell_type": "code",
   "execution_count": 15,
   "metadata": {},
   "outputs": [
    {
     "name": "stdout",
     "output_type": "stream",
     "text": [
      "Model: \"sequential_2\"\n",
      "_________________________________________________________________\n",
      "Layer (type)                 Output Shape              Param #   \n",
      "=================================================================\n",
      "conv2d (Conv2D)              (None, 32, 32, 32)        896       \n",
      "_________________________________________________________________\n",
      "batch_normalization (BatchNo (None, 32, 32, 32)        128       \n",
      "_________________________________________________________________\n",
      "conv2d_1 (Conv2D)            (None, 32, 32, 32)        9248      \n",
      "_________________________________________________________________\n",
      "batch_normalization_1 (Batch (None, 32, 32, 32)        128       \n",
      "_________________________________________________________________\n",
      "max_pooling2d (MaxPooling2D) (None, 16, 16, 32)        0         \n",
      "_________________________________________________________________\n",
      "dropout (Dropout)            (None, 16, 16, 32)        0         \n",
      "_________________________________________________________________\n",
      "conv2d_2 (Conv2D)            (None, 16, 16, 64)        18496     \n",
      "_________________________________________________________________\n",
      "batch_normalization_2 (Batch (None, 16, 16, 64)        256       \n",
      "_________________________________________________________________\n",
      "conv2d_3 (Conv2D)            (None, 16, 16, 64)        36928     \n",
      "_________________________________________________________________\n",
      "batch_normalization_3 (Batch (None, 16, 16, 64)        256       \n",
      "_________________________________________________________________\n",
      "max_pooling2d_1 (MaxPooling2 (None, 8, 8, 64)          0         \n",
      "_________________________________________________________________\n",
      "dropout_1 (Dropout)          (None, 8, 8, 64)          0         \n",
      "_________________________________________________________________\n",
      "conv2d_4 (Conv2D)            (None, 8, 8, 128)         73856     \n",
      "_________________________________________________________________\n",
      "batch_normalization_4 (Batch (None, 8, 8, 128)         512       \n",
      "_________________________________________________________________\n",
      "conv2d_5 (Conv2D)            (None, 8, 8, 128)         147584    \n",
      "_________________________________________________________________\n",
      "batch_normalization_5 (Batch (None, 8, 8, 128)         512       \n",
      "_________________________________________________________________\n",
      "max_pooling2d_2 (MaxPooling2 (None, 4, 4, 128)         0         \n",
      "_________________________________________________________________\n",
      "dropout_2 (Dropout)          (None, 4, 4, 128)         0         \n",
      "_________________________________________________________________\n",
      "flatten (Flatten)            (None, 2048)              0         \n",
      "_________________________________________________________________\n",
      "dense (Dense)                (None, 1024)              2098176   \n",
      "_________________________________________________________________\n",
      "batch_normalization_6 (Batch (None, 1024)              4096      \n",
      "_________________________________________________________________\n",
      "dropout_3 (Dropout)          (None, 1024)              0         \n",
      "_________________________________________________________________\n",
      "dense_2 (Dense)              (None, 10)                10250     \n",
      "=================================================================\n",
      "Total params: 2,401,322\n",
      "Trainable params: 2,398,378\n",
      "Non-trainable params: 2,944\n",
      "_________________________________________________________________\n"
     ]
    }
   ],
   "source": [
    "cifar3 = models.Sequential()\n",
    "for layer in cifar2.layers[:22]:\n",
    "    cifar3.add(layer)\n",
    "cifar3.add(layers.Dense(10, activation='softmax'))\n",
    "cifar3.compile(optimizer=adm, \n",
    "              loss=tf.keras.losses.SparseCategoricalCrossentropy(from_logits=True), \n",
    "              metrics=['accuracy'])\n",
    "cifar3.summary()"
   ]
  },
  {
   "cell_type": "markdown",
   "metadata": {},
   "source": [
    "#### Then train for 10 epochs"
   ]
  },
  {
   "cell_type": "code",
   "execution_count": 16,
   "metadata": {},
   "outputs": [
    {
     "name": "stdout",
     "output_type": "stream",
     "text": [
      "Train on 50000 samples, validate on 10000 samples\n",
      "Epoch 1/10\n",
      "50000/50000 [==============================] - 43s 866us/sample - loss: 1.6108 - accuracy: 0.8561 - val_loss: 1.6541 - val_accuracy: 0.8094\n",
      "Epoch 2/10\n",
      "50000/50000 [==============================] - 41s 824us/sample - loss: 1.5705 - accuracy: 0.8948 - val_loss: 1.6475 - val_accuracy: 0.8147\n",
      "Epoch 3/10\n",
      "50000/50000 [==============================] - 41s 825us/sample - loss: 1.5596 - accuracy: 0.9050 - val_loss: 1.6371 - val_accuracy: 0.8271\n",
      "Epoch 4/10\n",
      "50000/50000 [==============================] - 41s 825us/sample - loss: 1.5570 - accuracy: 0.9078 - val_loss: 1.6425 - val_accuracy: 0.8201\n",
      "Epoch 5/10\n",
      "50000/50000 [==============================] - 41s 825us/sample - loss: 1.5543 - accuracy: 0.9095 - val_loss: 1.6289 - val_accuracy: 0.8342\n",
      "Epoch 6/10\n",
      "50000/50000 [==============================] - 41s 825us/sample - loss: 1.5504 - accuracy: 0.9137 - val_loss: 1.6508 - val_accuracy: 0.8130\n",
      "Epoch 7/10\n",
      "50000/50000 [==============================] - 41s 825us/sample - loss: 1.5478 - accuracy: 0.9160 - val_loss: 1.6467 - val_accuracy: 0.8153\n",
      "Epoch 8/10\n",
      "50000/50000 [==============================] - 41s 826us/sample - loss: 1.5467 - accuracy: 0.9173 - val_loss: 1.6362 - val_accuracy: 0.8228\n",
      "Epoch 9/10\n",
      "50000/50000 [==============================] - 41s 824us/sample - loss: 1.5438 - accuracy: 0.9195 - val_loss: 1.6432 - val_accuracy: 0.8164\n",
      "Epoch 10/10\n",
      "50000/50000 [==============================] - 41s 825us/sample - loss: 1.5404 - accuracy: 0.9231 - val_loss: 1.6456 - val_accuracy: 0.8155\n"
     ]
    }
   ],
   "source": [
    "history = cifar3.fit(train_images, train_labels, epochs=10, batch_size = 256, validation_data=(test_images, test_labels))"
   ]
  },
  {
   "cell_type": "code",
   "execution_count": 18,
   "metadata": {},
   "outputs": [
    {
     "name": "stdout",
     "output_type": "stream",
     "text": [
      "10000/1 - 5s - loss: 1.6148 - accuracy: 0.8155\n"
     ]
    },
    {
     "data": {
      "image/png": "[encoded data removed]",
      "text/plain": [
       "<Figure size 432x288 with 1 Axes>"
      ]
     },
     "metadata": {
      "needs_background": "light"
     },
     "output_type": "display_data"
    }
   ],
   "source": [
    "# Visualizing training and validation accuracy\n",
    "plt.plot(history.history['accuracy'], label='accuracy')\n",
    "plt.plot(history.history['val_accuracy'], label='val_accuracy')\n",
    "plt.xlabel('Epoch')\n",
    "plt.ylabel('Accuracy')\n",
    "plt.ylim([0.7, 1])\n",
    "plt.legend(loc='lower right')\n",
    "\n",
    "test_loss, test_accuracy = cifar3.evaluate(test_images, test_labels, verbose=2)"
   ]
  },
  {
   "cell_type": "markdown",
   "metadata": {},
   "source": [
    "#### Comparing testing accuracy for the three models"
   ]
  },
  {
   "cell_type": "markdown",
   "metadata": {},
   "source": [
    "|Model     |Test accuracy   |                      |   |   |\n",
    "|----------|----------------|----------------------|---|---|\n",
    "|Model 1   |0.8080          |                      |   |   |\n",
    "|Model 2   |0.8058          |                      |   |   |\n",
    "|Model 3   |0.8155          |                      |   |   |"
   ]
  },
  {
   "cell_type": "markdown",
   "metadata": {},
   "source": [
    "We can see that the model with the best test accuracy is the last one."
   ]
  }
 ],
 "metadata": {
  "kernelspec": {
   "display_name": "Python 3",
   "language": "python",
   "name": "python3"
  },
  "language_info": {
   "codemirror_mode": {
    "name": "ipython",
    "version": 3
   },
   "file_extension": ".py",
   "mimetype": "text/x-python",
   "name": "python",
   "nbconvert_exporter": "python",
   "pygments_lexer": "ipython3",
   "version": "3.7.6"
  }
 },
 "nbformat": 4,
 "nbformat_minor": 2
}
